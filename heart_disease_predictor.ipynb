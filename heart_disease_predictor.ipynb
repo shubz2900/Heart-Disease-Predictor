{
 "cells": [
  {
   "cell_type": "code",
   "execution_count": 5,
   "id": "3a4b4ef8",
   "metadata": {},
   "outputs": [],
   "source": [
    "import findspark\n",
    "findspark.init('/usr/local/spark-3.3.2-bin-hadoop3')"
   ]
  },
  {
   "cell_type": "code",
   "execution_count": 1,
   "id": "3a979ebc",
   "metadata": {},
   "outputs": [],
   "source": [
    "from pyspark.sql import SparkSession\n",
    "from pyspark.ml.stat import Correlation\n",
    "import pyspark.sql.functions as F"
   ]
  },
  {
   "cell_type": "code",
   "execution_count": 3,
   "id": "a7c7fcc8",
   "metadata": {},
   "outputs": [],
   "source": [
    "spark = SparkSession.builder.getOrCreate()"
   ]
  },
  {
   "cell_type": "code",
   "execution_count": 7,
   "id": "d57ccb3c",
   "metadata": {},
   "outputs": [
    {
     "name": "stderr",
     "output_type": "stream",
     "text": [
      "                                                                                \r"
     ]
    }
   ],
   "source": [
    "df = spark.read.csv(\"hdfs://localhost:9000/usr/heart.csv\", inferSchema=True,\n",
    "                   header=True)"
   ]
  },
  {
   "cell_type": "code",
   "execution_count": 8,
   "id": "a3e060fd",
   "metadata": {},
   "outputs": [
    {
     "name": "stdout",
     "output_type": "stream",
     "text": [
      "+---+------+-------------+---------+-----------+---------+----------+-----+--------------+-------+--------+------------+\n",
      "|Age|Gender|ChestPainType|RestingBP|Cholesterol|FastingBS|RestingECG|MaxHR|ExerciseAngina|Oldpeak|ST_Slope|HeartDisease|\n",
      "+---+------+-------------+---------+-----------+---------+----------+-----+--------------+-------+--------+------------+\n",
      "| 40|     M|          ATA|      140|        289|        0|    Normal|  172|             N|    0.0|      Up|           0|\n",
      "| 49|     F|          NAP|      160|        180|        0|    Normal|  156|             N|    1.0|    Flat|           1|\n",
      "| 37|     M|          ATA|      130|        283|        0|        ST|   98|             N|    0.0|      Up|           0|\n",
      "| 48|     F|          ASY|      138|        214|        0|    Normal|  108|             Y|    1.5|    Flat|           1|\n",
      "| 54|     M|          NAP|      150|        195|        0|    Normal|  122|             N|    0.0|      Up|           0|\n",
      "| 39|     M|          NAP|      120|        339|        0|    Normal|  170|             N|    0.0|      Up|           0|\n",
      "| 45|     F|          ATA|      130|        237|        0|    Normal|  170|             N|    0.0|      Up|           0|\n",
      "| 54|     M|          ATA|      110|        208|        0|    Normal|  142|             N|    0.0|      Up|           0|\n",
      "| 37|     M|          ASY|      140|        207|        0|    Normal|  130|             Y|    1.5|    Flat|           1|\n",
      "| 48|     F|          ATA|      120|        284|        0|    Normal|  120|             N|    0.0|      Up|           0|\n",
      "| 37|     F|          NAP|      130|        211|        0|    Normal|  142|             N|    0.0|      Up|           0|\n",
      "| 58|     M|          ATA|      136|        164|        0|        ST|   99|             Y|    2.0|    Flat|           1|\n",
      "| 39|     M|          ATA|      120|        204|        0|    Normal|  145|             N|    0.0|      Up|           0|\n",
      "| 49|     M|          ASY|      140|        234|        0|    Normal|  140|             Y|    1.0|    Flat|           1|\n",
      "| 42|     F|          NAP|      115|        211|        0|        ST|  137|             N|    0.0|      Up|           0|\n",
      "| 54|     F|          ATA|      120|        273|        0|    Normal|  150|             N|    1.5|    Flat|           0|\n",
      "| 38|     M|          ASY|      110|        196|        0|    Normal|  166|             N|    0.0|    Flat|           1|\n",
      "| 43|     F|          ATA|      120|        201|        0|    Normal|  165|             N|    0.0|      Up|           0|\n",
      "| 60|     M|          ASY|      100|        248|        0|    Normal|  125|             N|    1.0|    Flat|           1|\n",
      "| 36|     M|          ATA|      120|        267|        0|    Normal|  160|             N|    3.0|    Flat|           1|\n",
      "+---+------+-------------+---------+-----------+---------+----------+-----+--------------+-------+--------+------------+\n",
      "only showing top 20 rows\n",
      "\n"
     ]
    }
   ],
   "source": [
    "df.show()"
   ]
  },
  {
   "cell_type": "code",
   "execution_count": 9,
   "id": "105d9342",
   "metadata": {},
   "outputs": [
    {
     "name": "stdout",
     "output_type": "stream",
     "text": [
      "+------------+\n",
      "|HeartDisease|\n",
      "+------------+\n",
      "|           0|\n",
      "|           1|\n",
      "|           0|\n",
      "|           1|\n",
      "|           0|\n",
      "|           0|\n",
      "|           0|\n",
      "|           0|\n",
      "|           1|\n",
      "|           0|\n",
      "|           0|\n",
      "|           1|\n",
      "|           0|\n",
      "|           1|\n",
      "|           0|\n",
      "|           0|\n",
      "|           1|\n",
      "|           0|\n",
      "|           1|\n",
      "|           1|\n",
      "+------------+\n",
      "only showing top 20 rows\n",
      "\n"
     ]
    }
   ],
   "source": [
    "df.select(\"HeartDisease\").show()"
   ]
  },
  {
   "cell_type": "code",
   "execution_count": 11,
   "id": "69b8feec",
   "metadata": {},
   "outputs": [
    {
     "data": {
      "text/plain": [
       "918"
      ]
     },
     "execution_count": 11,
     "metadata": {},
     "output_type": "execute_result"
    }
   ],
   "source": [
    "df.count()"
   ]
  },
  {
   "cell_type": "code",
   "execution_count": 12,
   "id": "29fda51a",
   "metadata": {},
   "outputs": [
    {
     "data": {
      "text/plain": [
       "12"
      ]
     },
     "execution_count": 12,
     "metadata": {},
     "output_type": "execute_result"
    }
   ],
   "source": [
    "len(df.columns)"
   ]
  },
  {
   "cell_type": "code",
   "execution_count": 13,
   "id": "aaecf7c5",
   "metadata": {},
   "outputs": [
    {
     "name": "stdout",
     "output_type": "stream",
     "text": [
      "root\n",
      " |-- Age: integer (nullable = true)\n",
      " |-- Gender: string (nullable = true)\n",
      " |-- ChestPainType: string (nullable = true)\n",
      " |-- RestingBP: integer (nullable = true)\n",
      " |-- Cholesterol: integer (nullable = true)\n",
      " |-- FastingBS: integer (nullable = true)\n",
      " |-- RestingECG: string (nullable = true)\n",
      " |-- MaxHR: integer (nullable = true)\n",
      " |-- ExerciseAngina: string (nullable = true)\n",
      " |-- Oldpeak: double (nullable = true)\n",
      " |-- ST_Slope: string (nullable = true)\n",
      " |-- HeartDisease: integer (nullable = true)\n",
      "\n"
     ]
    }
   ],
   "source": [
    "df.printSchema()"
   ]
  },
  {
   "cell_type": "code",
   "execution_count": 14,
   "id": "d0ac35c2",
   "metadata": {},
   "outputs": [
    {
     "name": "stderr",
     "output_type": "stream",
     "text": [
      "23/04/30 15:11:33 WARN package: Truncated the string representation of a plan since it was too large. This behavior can be adjusted by setting 'spark.sql.debug.maxToStringFields'.\n",
      "[Stage 12:>                                                         (0 + 1) / 1]\r"
     ]
    },
    {
     "name": "stdout",
     "output_type": "stream",
     "text": [
      "+-------+------------------+------+-------------+------------------+------------------+-------------------+----------+------------------+--------------+------------------+--------+-------------------+\n",
      "|summary|               Age|Gender|ChestPainType|         RestingBP|       Cholesterol|          FastingBS|RestingECG|             MaxHR|ExerciseAngina|           Oldpeak|ST_Slope|       HeartDisease|\n",
      "+-------+------------------+------+-------------+------------------+------------------+-------------------+----------+------------------+--------------+------------------+--------+-------------------+\n",
      "|  count|               918|   918|          918|               918|               918|                918|       918|               918|           918|               918|     918|                918|\n",
      "|   mean|53.510893246187365|  null|         null|132.39651416122004| 198.7995642701525|0.23311546840958605|      null|136.80936819172112|          null|0.8873638344226581|    null| 0.5533769063180828|\n",
      "| stddev|  9.43261650673202|  null|         null|18.514154119907808|109.38414455220345|0.42304562473930296|      null| 25.46033413825029|          null|1.0665701510493264|    null|0.49741373828459706|\n",
      "|    min|                28|     F|          ASY|                 0|                 0|                  0|       LVH|                60|             N|              -2.6|    Down|                  0|\n",
      "|    max|                77|     M|           TA|               200|               603|                  1|        ST|               202|             Y|               6.2|      Up|                  1|\n",
      "+-------+------------------+------+-------------+------------------+------------------+-------------------+----------+------------------+--------------+------------------+--------+-------------------+\n",
      "\n"
     ]
    },
    {
     "name": "stderr",
     "output_type": "stream",
     "text": [
      "\r\n",
      "                                                                                \r"
     ]
    }
   ],
   "source": [
    "df.describe().show()"
   ]
  },
  {
   "cell_type": "code",
   "execution_count": 15,
   "id": "91ae7033",
   "metadata": {},
   "outputs": [
    {
     "data": {
      "text/plain": [
       "[Row(Age=40, Gender='M', ChestPainType='ATA', RestingBP=140, Cholesterol=289, FastingBS=0, RestingECG='Normal', MaxHR=172, ExerciseAngina='N', Oldpeak=0.0, ST_Slope='Up', HeartDisease=0),\n",
       " Row(Age=49, Gender='F', ChestPainType='NAP', RestingBP=160, Cholesterol=180, FastingBS=0, RestingECG='Normal', MaxHR=156, ExerciseAngina='N', Oldpeak=1.0, ST_Slope='Flat', HeartDisease=1),\n",
       " Row(Age=37, Gender='M', ChestPainType='ATA', RestingBP=130, Cholesterol=283, FastingBS=0, RestingECG='ST', MaxHR=98, ExerciseAngina='N', Oldpeak=0.0, ST_Slope='Up', HeartDisease=0),\n",
       " Row(Age=48, Gender='F', ChestPainType='ASY', RestingBP=138, Cholesterol=214, FastingBS=0, RestingECG='Normal', MaxHR=108, ExerciseAngina='Y', Oldpeak=1.5, ST_Slope='Flat', HeartDisease=1),\n",
       " Row(Age=54, Gender='M', ChestPainType='NAP', RestingBP=150, Cholesterol=195, FastingBS=0, RestingECG='Normal', MaxHR=122, ExerciseAngina='N', Oldpeak=0.0, ST_Slope='Up', HeartDisease=0)]"
      ]
     },
     "execution_count": 15,
     "metadata": {},
     "output_type": "execute_result"
    }
   ],
   "source": [
    "df.head(5)"
   ]
  },
  {
   "cell_type": "code",
   "execution_count": 16,
   "id": "90b97c9d",
   "metadata": {},
   "outputs": [
    {
     "name": "stdout",
     "output_type": "stream",
     "text": [
      "+------------+-----+\n",
      "|HeartDisease|count|\n",
      "+------------+-----+\n",
      "|           1|  508|\n",
      "|           0|  410|\n",
      "+------------+-----+\n",
      "\n"
     ]
    }
   ],
   "source": [
    "df.groupBy('HeartDisease').count().show()"
   ]
  },
  {
   "cell_type": "code",
   "execution_count": 17,
   "id": "7519ebbb",
   "metadata": {},
   "outputs": [
    {
     "name": "stdout",
     "output_type": "stream",
     "text": [
      "+---+-----+\n",
      "|Age|count|\n",
      "+---+-----+\n",
      "| 31|    2|\n",
      "| 65|   21|\n",
      "| 53|   33|\n",
      "| 34|    7|\n",
      "| 28|    1|\n",
      "| 76|    2|\n",
      "| 44|   19|\n",
      "| 47|   19|\n",
      "| 52|   36|\n",
      "| 40|   13|\n",
      "| 57|   38|\n",
      "| 54|   51|\n",
      "| 48|   31|\n",
      "| 64|   22|\n",
      "| 41|   24|\n",
      "| 43|   24|\n",
      "| 37|   11|\n",
      "| 61|   31|\n",
      "| 72|    4|\n",
      "| 35|   11|\n",
      "+---+-----+\n",
      "only showing top 20 rows\n",
      "\n"
     ]
    }
   ],
   "source": [
    "df.groupBy('Age').count().show()"
   ]
  },
  {
   "cell_type": "code",
   "execution_count": 18,
   "id": "ab3600de",
   "metadata": {},
   "outputs": [
    {
     "name": "stdout",
     "output_type": "stream",
     "text": [
      "+------+-----+\n",
      "|Gender|count|\n",
      "+------+-----+\n",
      "|     F|  193|\n",
      "|     M|  725|\n",
      "+------+-----+\n",
      "\n"
     ]
    }
   ],
   "source": [
    "df.groupBy('Gender').count().show()"
   ]
  },
  {
   "cell_type": "code",
   "execution_count": 19,
   "id": "f89c9f68",
   "metadata": {},
   "outputs": [
    {
     "name": "stdout",
     "output_type": "stream",
     "text": [
      "+---+--------+------------------+------------------+-------------------+------------------+-------------------+-------------------+\n",
      "|Age|avg(Age)|    avg(RestingBP)|  avg(Cholesterol)|     avg(FastingBS)|        avg(MaxHR)|       avg(Oldpeak)|  avg(HeartDisease)|\n",
      "+---+--------+------------------+------------------+-------------------+------------------+-------------------+-------------------+\n",
      "| 31|    31.0|             110.0|             244.5|                0.0|             151.5|               0.75|                0.5|\n",
      "| 65|    65.0|141.76190476190476|207.57142857142858| 0.3333333333333333| 125.9047619047619| 1.1714285714285715| 0.7142857142857143|\n",
      "| 53|    53.0| 131.0909090909091|181.03030303030303| 0.2727272727272727|131.57575757575756| 0.7181818181818181|0.45454545454545453|\n",
      "| 34|    34.0|124.14285714285714|163.28571428571428|0.14285714285714285|172.57142857142858|0.12857142857142856| 0.2857142857142857|\n",
      "| 28|    28.0|             130.0|             132.0|                0.0|             185.0|                0.0|                0.0|\n",
      "| 76|    76.0|             122.0|             155.0|                0.0|             118.0|                2.3|                0.5|\n",
      "| 44|    44.0|125.94736842105263|249.57894736842104|                0.0|154.26315789473685|  0.531578947368421| 0.3157894736842105|\n",
      "| 47|    47.0|132.52631578947367|193.42105263157896|0.21052631578947367| 139.8421052631579| 0.7736842105263158| 0.5789473684210527|\n",
      "| 52|    52.0|133.63888888888889|200.27777777777777|               0.25|141.94444444444446| 0.8666666666666667| 0.5277777777777778|\n",
      "| 40|    40.0|128.30769230769232| 229.3846153846154|0.23076923076923078|150.69230769230768|0.49230769230769234|0.46153846153846156|\n",
      "| 57|    57.0| 136.3684210526316|202.31578947368422|0.34210526315789475| 133.6315789473684| 1.0026315789473685| 0.6842105263157895|\n",
      "| 54|    54.0| 133.5686274509804|231.98039215686273| 0.1568627450980392| 137.2941176470588| 0.8450980392156863|0.45098039215686275|\n",
      "| 48|    48.0|             128.0|228.19354838709677|0.25806451612903225|136.16129032258064| 0.7290322580645161| 0.4838709677419355|\n",
      "| 64|    64.0| 137.5909090909091| 205.3181818181818| 0.2727272727272727| 128.3181818181818| 1.2045454545454546| 0.6818181818181818|\n",
      "| 41|    41.0|120.45833333333333|             216.5|0.08333333333333333|154.41666666666666| 0.5208333333333334|               0.25|\n",
      "| 43|    43.0|126.66666666666667|202.33333333333334|              0.125|           147.875| 0.8291666666666666| 0.4583333333333333|\n",
      "| 37|    37.0| 127.0909090909091|233.72727272727272|                0.0| 152.9090909090909| 0.5454545454545454|0.09090909090909091|\n",
      "| 61|    61.0|137.48387096774192|162.58064516129033| 0.3548387096774194|             121.0|  1.303225806451613| 0.8387096774193549|\n",
      "| 72|    72.0|            145.75|             137.0|               0.25|            113.75|              1.375|               0.75|\n",
      "| 35|    35.0|126.27272727272727|197.45454545454547|0.09090909090909091| 158.9090909090909| 0.3727272727272727|0.36363636363636365|\n",
      "+---+--------+------------------+------------------+-------------------+------------------+-------------------+-------------------+\n",
      "only showing top 20 rows\n",
      "\n"
     ]
    }
   ],
   "source": [
    "df.groupBy('Age').mean().show()"
   ]
  },
  {
   "cell_type": "code",
   "execution_count": 20,
   "id": "6d2a4536",
   "metadata": {},
   "outputs": [
    {
     "name": "stdout",
     "output_type": "stream",
     "text": [
      "root\n",
      " |-- Age: integer (nullable = true)\n",
      " |-- Gender: string (nullable = true)\n",
      " |-- ChestPainType: string (nullable = true)\n",
      " |-- RestingBP: integer (nullable = true)\n",
      " |-- Cholesterol: integer (nullable = true)\n",
      " |-- FastingBS: integer (nullable = true)\n",
      " |-- RestingECG: string (nullable = true)\n",
      " |-- MaxHR: integer (nullable = true)\n",
      " |-- ExerciseAngina: string (nullable = true)\n",
      " |-- Oldpeak: double (nullable = true)\n",
      " |-- ST_Slope: string (nullable = true)\n",
      " |-- HeartDisease: integer (nullable = true)\n",
      "\n"
     ]
    }
   ],
   "source": [
    "df.printSchema()"
   ]
  },
  {
   "cell_type": "code",
   "execution_count": 21,
   "id": "c25e206b",
   "metadata": {},
   "outputs": [],
   "source": [
    "from pyspark.ml.feature import StringIndexer\n",
    "from pyspark.ml.feature import VectorAssembler"
   ]
  },
  {
   "cell_type": "code",
   "execution_count": 22,
   "id": "23c24374",
   "metadata": {},
   "outputs": [
    {
     "name": "stderr",
     "output_type": "stream",
     "text": [
      "                                                                                \r"
     ]
    }
   ],
   "source": [
    "indexer=StringIndexer(inputCol= \"Gender\",outputCol='Gender_cat')\n",
    "indexed=indexer.fit(df).transform(df)"
   ]
  },
  {
   "cell_type": "code",
   "execution_count": 23,
   "id": "f8840424",
   "metadata": {},
   "outputs": [],
   "source": [
    "indexer=StringIndexer(inputCol= \"ChestPainType\",outputCol='ChestPainType_cat')\n",
    "indexed=indexer.fit(indexed).transform(indexed)"
   ]
  },
  {
   "cell_type": "code",
   "execution_count": 24,
   "id": "cb5c719f",
   "metadata": {},
   "outputs": [],
   "source": [
    "indexer=StringIndexer(inputCol= \"RestingECG\",outputCol='RestingECG_cat')\n",
    "indexed=indexer.fit(indexed).transform(indexed)"
   ]
  },
  {
   "cell_type": "code",
   "execution_count": 25,
   "id": "02f94c23",
   "metadata": {},
   "outputs": [],
   "source": [
    "indexer=StringIndexer(inputCol= \"ExerciseAngina\",outputCol='ExerciseAngina_cat')\n",
    "indexed=indexer.fit(indexed).transform(indexed)"
   ]
  },
  {
   "cell_type": "code",
   "execution_count": 26,
   "id": "c0ae2ee7",
   "metadata": {},
   "outputs": [],
   "source": [
    "indexer=StringIndexer(inputCol= \"ST_Slope\",outputCol='ST_Slope_cat')\n",
    "indexed=indexer.fit(indexed).transform(indexed)"
   ]
  },
  {
   "cell_type": "code",
   "execution_count": 27,
   "id": "4f901c56",
   "metadata": {},
   "outputs": [
    {
     "name": "stdout",
     "output_type": "stream",
     "text": [
      "+---+------+-------------+---------+-----------+---------+----------+-----+--------------+-------+--------+------------+----------+-----------------+--------------+------------------+------------+\n",
      "|Age|Gender|ChestPainType|RestingBP|Cholesterol|FastingBS|RestingECG|MaxHR|ExerciseAngina|Oldpeak|ST_Slope|HeartDisease|Gender_cat|ChestPainType_cat|RestingECG_cat|ExerciseAngina_cat|ST_Slope_cat|\n",
      "+---+------+-------------+---------+-----------+---------+----------+-----+--------------+-------+--------+------------+----------+-----------------+--------------+------------------+------------+\n",
      "| 40|     M|          ATA|      140|        289|        0|    Normal|  172|             N|    0.0|      Up|           0|       0.0|              2.0|           0.0|               0.0|         1.0|\n",
      "| 49|     F|          NAP|      160|        180|        0|    Normal|  156|             N|    1.0|    Flat|           1|       1.0|              1.0|           0.0|               0.0|         0.0|\n",
      "| 37|     M|          ATA|      130|        283|        0|        ST|   98|             N|    0.0|      Up|           0|       0.0|              2.0|           2.0|               0.0|         1.0|\n",
      "| 48|     F|          ASY|      138|        214|        0|    Normal|  108|             Y|    1.5|    Flat|           1|       1.0|              0.0|           0.0|               1.0|         0.0|\n",
      "| 54|     M|          NAP|      150|        195|        0|    Normal|  122|             N|    0.0|      Up|           0|       0.0|              1.0|           0.0|               0.0|         1.0|\n",
      "| 39|     M|          NAP|      120|        339|        0|    Normal|  170|             N|    0.0|      Up|           0|       0.0|              1.0|           0.0|               0.0|         1.0|\n",
      "| 45|     F|          ATA|      130|        237|        0|    Normal|  170|             N|    0.0|      Up|           0|       1.0|              2.0|           0.0|               0.0|         1.0|\n",
      "| 54|     M|          ATA|      110|        208|        0|    Normal|  142|             N|    0.0|      Up|           0|       0.0|              2.0|           0.0|               0.0|         1.0|\n",
      "| 37|     M|          ASY|      140|        207|        0|    Normal|  130|             Y|    1.5|    Flat|           1|       0.0|              0.0|           0.0|               1.0|         0.0|\n",
      "| 48|     F|          ATA|      120|        284|        0|    Normal|  120|             N|    0.0|      Up|           0|       1.0|              2.0|           0.0|               0.0|         1.0|\n",
      "| 37|     F|          NAP|      130|        211|        0|    Normal|  142|             N|    0.0|      Up|           0|       1.0|              1.0|           0.0|               0.0|         1.0|\n",
      "| 58|     M|          ATA|      136|        164|        0|        ST|   99|             Y|    2.0|    Flat|           1|       0.0|              2.0|           2.0|               1.0|         0.0|\n",
      "| 39|     M|          ATA|      120|        204|        0|    Normal|  145|             N|    0.0|      Up|           0|       0.0|              2.0|           0.0|               0.0|         1.0|\n",
      "| 49|     M|          ASY|      140|        234|        0|    Normal|  140|             Y|    1.0|    Flat|           1|       0.0|              0.0|           0.0|               1.0|         0.0|\n",
      "| 42|     F|          NAP|      115|        211|        0|        ST|  137|             N|    0.0|      Up|           0|       1.0|              1.0|           2.0|               0.0|         1.0|\n",
      "| 54|     F|          ATA|      120|        273|        0|    Normal|  150|             N|    1.5|    Flat|           0|       1.0|              2.0|           0.0|               0.0|         0.0|\n",
      "| 38|     M|          ASY|      110|        196|        0|    Normal|  166|             N|    0.0|    Flat|           1|       0.0|              0.0|           0.0|               0.0|         0.0|\n",
      "| 43|     F|          ATA|      120|        201|        0|    Normal|  165|             N|    0.0|      Up|           0|       1.0|              2.0|           0.0|               0.0|         1.0|\n",
      "| 60|     M|          ASY|      100|        248|        0|    Normal|  125|             N|    1.0|    Flat|           1|       0.0|              0.0|           0.0|               0.0|         0.0|\n",
      "| 36|     M|          ATA|      120|        267|        0|    Normal|  160|             N|    3.0|    Flat|           1|       0.0|              2.0|           0.0|               0.0|         0.0|\n",
      "+---+------+-------------+---------+-----------+---------+----------+-----+--------------+-------+--------+------------+----------+-----------------+--------------+------------------+------------+\n",
      "only showing top 20 rows\n",
      "\n"
     ]
    }
   ],
   "source": [
    "indexed.show()"
   ]
  },
  {
   "cell_type": "code",
   "execution_count": 28,
   "id": "deef25a6",
   "metadata": {},
   "outputs": [
    {
     "data": {
      "text/plain": [
       "['Age',\n",
       " 'Gender',\n",
       " 'ChestPainType',\n",
       " 'RestingBP',\n",
       " 'Cholesterol',\n",
       " 'FastingBS',\n",
       " 'RestingECG',\n",
       " 'MaxHR',\n",
       " 'ExerciseAngina',\n",
       " 'Oldpeak',\n",
       " 'ST_Slope',\n",
       " 'HeartDisease',\n",
       " 'Gender_cat',\n",
       " 'ChestPainType_cat',\n",
       " 'RestingECG_cat',\n",
       " 'ExerciseAngina_cat',\n",
       " 'ST_Slope_cat']"
      ]
     },
     "execution_count": 28,
     "metadata": {},
     "output_type": "execute_result"
    }
   ],
   "source": [
    "indexed.columns"
   ]
  },
  {
   "cell_type": "code",
   "execution_count": 37,
   "id": "17f414ba",
   "metadata": {},
   "outputs": [],
   "source": [
    "\n",
    "assembler= VectorAssembler(inputCols=['Age',\n",
    " 'RestingBP',\n",
    " 'FastingBS',\n",
    " 'MaxHR',\n",
    " 'Oldpeak',\n",
    " 'Gender_cat', 'ChestPainType_cat', 'RestingECG_cat', 'ST_Slope_cat'],outputCol='features')"
   ]
  },
  {
   "cell_type": "code",
   "execution_count": 38,
   "id": "b53cf36f",
   "metadata": {},
   "outputs": [
    {
     "data": {
      "text/plain": [
       "VectorAssembler_bd8b30ff07d0"
      ]
     },
     "execution_count": 38,
     "metadata": {},
     "output_type": "execute_result"
    }
   ],
   "source": [
    "assembler"
   ]
  },
  {
   "cell_type": "code",
   "execution_count": 39,
   "id": "45321ddd",
   "metadata": {},
   "outputs": [],
   "source": [
    "output= assembler.transform(indexed)"
   ]
  },
  {
   "cell_type": "code",
   "execution_count": 40,
   "id": "5ef6e3e3",
   "metadata": {},
   "outputs": [
    {
     "data": {
      "text/plain": [
       "DataFrame[Age: int, Gender: string, ChestPainType: string, RestingBP: int, Cholesterol: int, FastingBS: int, RestingECG: string, MaxHR: int, ExerciseAngina: string, Oldpeak: double, ST_Slope: string, HeartDisease: int, Gender_cat: double, ChestPainType_cat: double, RestingECG_cat: double, ExerciseAngina_cat: double, ST_Slope_cat: double, features: vector]"
      ]
     },
     "execution_count": 40,
     "metadata": {},
     "output_type": "execute_result"
    }
   ],
   "source": [
    "output"
   ]
  },
  {
   "cell_type": "code",
   "execution_count": 41,
   "id": "7c5b0deb",
   "metadata": {},
   "outputs": [
    {
     "name": "stdout",
     "output_type": "stream",
     "text": [
      "+---+------+-------------+---------+-----------+---------+----------+-----+--------------+-------+--------+------------+----------+-----------------+--------------+------------------+------------+--------------------+\n",
      "|Age|Gender|ChestPainType|RestingBP|Cholesterol|FastingBS|RestingECG|MaxHR|ExerciseAngina|Oldpeak|ST_Slope|HeartDisease|Gender_cat|ChestPainType_cat|RestingECG_cat|ExerciseAngina_cat|ST_Slope_cat|            features|\n",
      "+---+------+-------------+---------+-----------+---------+----------+-----+--------------+-------+--------+------------+----------+-----------------+--------------+------------------+------------+--------------------+\n",
      "| 40|     M|          ATA|      140|        289|        0|    Normal|  172|             N|    0.0|      Up|           0|       0.0|              2.0|           0.0|               0.0|         1.0|[40.0,140.0,0.0,1...|\n",
      "| 49|     F|          NAP|      160|        180|        0|    Normal|  156|             N|    1.0|    Flat|           1|       1.0|              1.0|           0.0|               0.0|         0.0|[49.0,160.0,0.0,1...|\n",
      "| 37|     M|          ATA|      130|        283|        0|        ST|   98|             N|    0.0|      Up|           0|       0.0|              2.0|           2.0|               0.0|         1.0|[37.0,130.0,0.0,9...|\n",
      "| 48|     F|          ASY|      138|        214|        0|    Normal|  108|             Y|    1.5|    Flat|           1|       1.0|              0.0|           0.0|               1.0|         0.0|[48.0,138.0,0.0,1...|\n",
      "| 54|     M|          NAP|      150|        195|        0|    Normal|  122|             N|    0.0|      Up|           0|       0.0|              1.0|           0.0|               0.0|         1.0|[54.0,150.0,0.0,1...|\n",
      "| 39|     M|          NAP|      120|        339|        0|    Normal|  170|             N|    0.0|      Up|           0|       0.0|              1.0|           0.0|               0.0|         1.0|[39.0,120.0,0.0,1...|\n",
      "| 45|     F|          ATA|      130|        237|        0|    Normal|  170|             N|    0.0|      Up|           0|       1.0|              2.0|           0.0|               0.0|         1.0|[45.0,130.0,0.0,1...|\n",
      "| 54|     M|          ATA|      110|        208|        0|    Normal|  142|             N|    0.0|      Up|           0|       0.0|              2.0|           0.0|               0.0|         1.0|[54.0,110.0,0.0,1...|\n",
      "| 37|     M|          ASY|      140|        207|        0|    Normal|  130|             Y|    1.5|    Flat|           1|       0.0|              0.0|           0.0|               1.0|         0.0|(9,[0,1,3,4],[37....|\n",
      "| 48|     F|          ATA|      120|        284|        0|    Normal|  120|             N|    0.0|      Up|           0|       1.0|              2.0|           0.0|               0.0|         1.0|[48.0,120.0,0.0,1...|\n",
      "| 37|     F|          NAP|      130|        211|        0|    Normal|  142|             N|    0.0|      Up|           0|       1.0|              1.0|           0.0|               0.0|         1.0|[37.0,130.0,0.0,1...|\n",
      "| 58|     M|          ATA|      136|        164|        0|        ST|   99|             Y|    2.0|    Flat|           1|       0.0|              2.0|           2.0|               1.0|         0.0|[58.0,136.0,0.0,9...|\n",
      "| 39|     M|          ATA|      120|        204|        0|    Normal|  145|             N|    0.0|      Up|           0|       0.0|              2.0|           0.0|               0.0|         1.0|[39.0,120.0,0.0,1...|\n",
      "| 49|     M|          ASY|      140|        234|        0|    Normal|  140|             Y|    1.0|    Flat|           1|       0.0|              0.0|           0.0|               1.0|         0.0|(9,[0,1,3,4],[49....|\n",
      "| 42|     F|          NAP|      115|        211|        0|        ST|  137|             N|    0.0|      Up|           0|       1.0|              1.0|           2.0|               0.0|         1.0|[42.0,115.0,0.0,1...|\n",
      "| 54|     F|          ATA|      120|        273|        0|    Normal|  150|             N|    1.5|    Flat|           0|       1.0|              2.0|           0.0|               0.0|         0.0|[54.0,120.0,0.0,1...|\n",
      "| 38|     M|          ASY|      110|        196|        0|    Normal|  166|             N|    0.0|    Flat|           1|       0.0|              0.0|           0.0|               0.0|         0.0|(9,[0,1,3],[38.0,...|\n",
      "| 43|     F|          ATA|      120|        201|        0|    Normal|  165|             N|    0.0|      Up|           0|       1.0|              2.0|           0.0|               0.0|         1.0|[43.0,120.0,0.0,1...|\n",
      "| 60|     M|          ASY|      100|        248|        0|    Normal|  125|             N|    1.0|    Flat|           1|       0.0|              0.0|           0.0|               0.0|         0.0|(9,[0,1,3,4],[60....|\n",
      "| 36|     M|          ATA|      120|        267|        0|    Normal|  160|             N|    3.0|    Flat|           1|       0.0|              2.0|           0.0|               0.0|         0.0|[36.0,120.0,0.0,1...|\n",
      "+---+------+-------------+---------+-----------+---------+----------+-----+--------------+-------+--------+------------+----------+-----------------+--------------+------------------+------------+--------------------+\n",
      "only showing top 20 rows\n",
      "\n"
     ]
    }
   ],
   "source": [
    "output.show()\n",
    "\n",
    "# As we can see, now we have one extra column named features, which is\n",
    "#nothing but a combination of all the input features represented as a single dense\n",
    "#vector."
   ]
  },
  {
   "cell_type": "code",
   "execution_count": 42,
   "id": "f352b7e2",
   "metadata": {},
   "outputs": [
    {
     "name": "stdout",
     "output_type": "stream",
     "text": [
      "+--------------------+------------+\n",
      "|            features|HeartDisease|\n",
      "+--------------------+------------+\n",
      "|[40.0,140.0,0.0,1...|           0|\n",
      "|[49.0,160.0,0.0,1...|           1|\n",
      "|[37.0,130.0,0.0,9...|           0|\n",
      "|[48.0,138.0,0.0,1...|           1|\n",
      "|[54.0,150.0,0.0,1...|           0|\n",
      "+--------------------+------------+\n",
      "only showing top 5 rows\n",
      "\n"
     ]
    }
   ],
   "source": [
    "output.select('features','HeartDisease').show(5)"
   ]
  },
  {
   "cell_type": "code",
   "execution_count": 43,
   "id": "edd5270d",
   "metadata": {},
   "outputs": [
    {
     "data": {
      "text/plain": [
       "['Age',\n",
       " 'Gender',\n",
       " 'ChestPainType',\n",
       " 'RestingBP',\n",
       " 'Cholesterol',\n",
       " 'FastingBS',\n",
       " 'RestingECG',\n",
       " 'MaxHR',\n",
       " 'ExerciseAngina',\n",
       " 'Oldpeak',\n",
       " 'ST_Slope',\n",
       " 'HeartDisease',\n",
       " 'Gender_cat',\n",
       " 'ChestPainType_cat',\n",
       " 'RestingECG_cat',\n",
       " 'ExerciseAngina_cat',\n",
       " 'ST_Slope_cat']"
      ]
     },
     "execution_count": 43,
     "metadata": {},
     "output_type": "execute_result"
    }
   ],
   "source": [
    "indexed.columns"
   ]
  },
  {
   "cell_type": "code",
   "execution_count": 44,
   "id": "092a097b",
   "metadata": {},
   "outputs": [],
   "source": [
    "model_df=output.select(['features','HeartDisease'])"
   ]
  },
  {
   "cell_type": "code",
   "execution_count": 45,
   "id": "41c03527",
   "metadata": {},
   "outputs": [],
   "source": [
    "training_df,test_df=model_df.randomSplit([0.75,0.25])"
   ]
  },
  {
   "cell_type": "code",
   "execution_count": 46,
   "id": "0ed1fbb8",
   "metadata": {},
   "outputs": [
    {
     "name": "stdout",
     "output_type": "stream",
     "text": [
      "694\n"
     ]
    }
   ],
   "source": [
    "print(training_df.count())"
   ]
  },
  {
   "cell_type": "code",
   "execution_count": 47,
   "id": "e5a0baf0",
   "metadata": {},
   "outputs": [
    {
     "name": "stdout",
     "output_type": "stream",
     "text": [
      "224\n"
     ]
    }
   ],
   "source": [
    "print(test_df.count())"
   ]
  },
  {
   "cell_type": "code",
   "execution_count": 48,
   "id": "4f69a5e6",
   "metadata": {},
   "outputs": [],
   "source": [
    "from pyspark.ml.classification import LogisticRegression"
   ]
  },
  {
   "cell_type": "code",
   "execution_count": 49,
   "id": "26b4bc29",
   "metadata": {},
   "outputs": [
    {
     "name": "stderr",
     "output_type": "stream",
     "text": [
      "23/04/30 15:30:02 WARN InstanceBuilder: Failed to load implementation from:dev.ludovic.netlib.blas.JNIBLAS\n"
     ]
    }
   ],
   "source": [
    "log_reg=LogisticRegression(labelCol='HeartDisease').fit(training_df)"
   ]
  },
  {
   "cell_type": "code",
   "execution_count": 50,
   "id": "925c6a7e",
   "metadata": {},
   "outputs": [],
   "source": [
    "# training results\n",
    "train_results=log_reg.evaluate(training_df).predictions"
   ]
  },
  {
   "cell_type": "code",
   "execution_count": 51,
   "id": "f3eb1613",
   "metadata": {},
   "outputs": [
    {
     "name": "stdout",
     "output_type": "stream",
     "text": [
      "+--------------------+------------+--------------------+--------------------+----------+\n",
      "|            features|HeartDisease|       rawPrediction|         probability|prediction|\n",
      "+--------------------+------------+--------------------+--------------------+----------+\n",
      "|(9,[0,1,2,3],[40....|           1|[-1.8729887098740...|[0.13319628249822...|       1.0|\n",
      "|(9,[0,1,2,3],[48....|           1|[-2.8682488085099...|[0.05374564287109...|       1.0|\n",
      "|(9,[0,1,2,3],[51....|           1|[-3.2061674734550...|[0.03893428837329...|       1.0|\n",
      "|(9,[0,1,2,3],[51....|           1|[-3.0326790577465...|[0.04597118633683...|       1.0|\n",
      "|(9,[0,1,2,3],[52....|           1|[-2.8243938655929...|[0.05602012395790...|       1.0|\n",
      "|(9,[0,1,2,3],[53....|           1|[-2.8454523185199...|[0.05491686927709...|       1.0|\n",
      "|(9,[0,1,2,3],[57....|           1|[-3.2415372788462...|[0.03763217683424...|       1.0|\n",
      "|(9,[0,1,2,3],[59....|           1|[-3.3689177106564...|[0.03328111227036...|       1.0|\n",
      "|(9,[0,1,3],[32.0,...|           1|[-0.7092600874983...|[0.32976235441503...|       1.0|\n",
      "|(9,[0,1,3],[38.0,...|           1|[-0.3216605582864...|[0.42027111046480...|       1.0|\n",
      "|(9,[0,1,3],[38.0,...|           1|[-0.2658053289143...|[0.43393716905678...|       1.0|\n",
      "|(9,[0,1,3],[39.0,...|           1|[-0.5809467476825...|[0.35871477614280...|       1.0|\n",
      "|(9,[0,1,3],[42.0,...|           1|[-1.4132825340337...|[0.19571683077872...|       1.0|\n",
      "|(9,[0,1,3],[46.0,...|           1|[-0.7490854647448...|[0.32102060612364...|       1.0|\n",
      "|(9,[0,1,3],[46.0,...|           1|[-1.1337624113753...|[0.24346742973960...|       1.0|\n",
      "|(9,[0,1,3],[46.0,...|           1|[-1.2666920187630...|[0.21982404978883...|       1.0|\n",
      "|(9,[0,1,3],[46.0,...|           1|[-1.3137658274354...|[0.21185736721962...|       1.0|\n",
      "|(9,[0,1,3],[46.0,...|           1|[-1.1090922968650...|[0.24804015120849...|       1.0|\n",
      "|(9,[0,1,3],[47.0,...|           1|[-1.1702199560424...|[0.23681522848576...|       1.0|\n",
      "|(9,[0,1,3],[49.0,...|           1|[-1.6204993775186...|[0.16513601144173...|       1.0|\n",
      "+--------------------+------------+--------------------+--------------------+----------+\n",
      "only showing top 20 rows\n",
      "\n"
     ]
    }
   ],
   "source": [
    "train_results.show()"
   ]
  },
  {
   "cell_type": "code",
   "execution_count": 52,
   "id": "909ab63a",
   "metadata": {},
   "outputs": [],
   "source": [
    "results=log_reg.evaluate(test_df).predictions"
   ]
  },
  {
   "cell_type": "code",
   "execution_count": 53,
   "id": "d67009d4",
   "metadata": {},
   "outputs": [
    {
     "name": "stdout",
     "output_type": "stream",
     "text": [
      "root\n",
      " |-- features: vector (nullable = true)\n",
      " |-- HeartDisease: integer (nullable = true)\n",
      " |-- rawPrediction: vector (nullable = true)\n",
      " |-- probability: vector (nullable = true)\n",
      " |-- prediction: double (nullable = false)\n",
      "\n"
     ]
    }
   ],
   "source": [
    "results.printSchema()"
   ]
  },
  {
   "cell_type": "code",
   "execution_count": 54,
   "id": "fc78a486",
   "metadata": {},
   "outputs": [
    {
     "name": "stdout",
     "output_type": "stream",
     "text": [
      "+------------+----------+\n",
      "|HeartDisease|prediction|\n",
      "+------------+----------+\n",
      "|1           |1.0       |\n",
      "|1           |1.0       |\n",
      "|1           |1.0       |\n",
      "|1           |1.0       |\n",
      "|1           |1.0       |\n",
      "|1           |1.0       |\n",
      "|1           |1.0       |\n",
      "|1           |1.0       |\n",
      "|1           |1.0       |\n",
      "|1           |1.0       |\n",
      "+------------+----------+\n",
      "only showing top 10 rows\n",
      "\n"
     ]
    }
   ],
   "source": [
    "results.select(['HeartDisease','prediction']).show(10,False)"
   ]
  },
  {
   "cell_type": "code",
   "execution_count": 55,
   "id": "ec5b6b38",
   "metadata": {},
   "outputs": [],
   "source": [
    "# confusion matrix\n",
    "tp = results[(results.HeartDisease == 1) & (results.prediction == 1)].count()"
   ]
  },
  {
   "cell_type": "code",
   "execution_count": 56,
   "id": "a8d725b0",
   "metadata": {},
   "outputs": [
    {
     "data": {
      "text/plain": [
       "108"
      ]
     },
     "execution_count": 56,
     "metadata": {},
     "output_type": "execute_result"
    }
   ],
   "source": [
    "tp"
   ]
  },
  {
   "cell_type": "code",
   "execution_count": 57,
   "id": "103274b8",
   "metadata": {},
   "outputs": [],
   "source": [
    "tn = results[(results.HeartDisease == 0) & (results.prediction ==0)].count()"
   ]
  },
  {
   "cell_type": "code",
   "execution_count": 58,
   "id": "cffca92b",
   "metadata": {},
   "outputs": [
    {
     "data": {
      "text/plain": [
       "81"
      ]
     },
     "execution_count": 58,
     "metadata": {},
     "output_type": "execute_result"
    }
   ],
   "source": [
    "tn"
   ]
  },
  {
   "cell_type": "code",
   "execution_count": 59,
   "id": "f93f209c",
   "metadata": {},
   "outputs": [],
   "source": [
    "fp = results[(results.HeartDisease == 0) & (results.prediction == 1)].count()"
   ]
  },
  {
   "cell_type": "code",
   "execution_count": 60,
   "id": "981c2e91",
   "metadata": {},
   "outputs": [
    {
     "data": {
      "text/plain": [
       "22"
      ]
     },
     "execution_count": 60,
     "metadata": {},
     "output_type": "execute_result"
    }
   ],
   "source": [
    "fp"
   ]
  },
  {
   "cell_type": "code",
   "execution_count": 61,
   "id": "dd577a2d",
   "metadata": {},
   "outputs": [],
   "source": [
    "fn = results[(results.HeartDisease == 1) & (results.prediction ==0)].count()"
   ]
  },
  {
   "cell_type": "code",
   "execution_count": 62,
   "id": "2c2a78e0",
   "metadata": {},
   "outputs": [
    {
     "data": {
      "text/plain": [
       "13"
      ]
     },
     "execution_count": 62,
     "metadata": {},
     "output_type": "execute_result"
    }
   ],
   "source": [
    "fn"
   ]
  },
  {
   "cell_type": "code",
   "execution_count": 63,
   "id": "664d9db0",
   "metadata": {},
   "outputs": [],
   "source": [
    "# accuracy\n",
    "accuracy=float((tp+tn)/(results.count()))"
   ]
  },
  {
   "cell_type": "code",
   "execution_count": 64,
   "id": "cefce284",
   "metadata": {},
   "outputs": [
    {
     "data": {
      "text/plain": [
       "0.84375"
      ]
     },
     "execution_count": 64,
     "metadata": {},
     "output_type": "execute_result"
    }
   ],
   "source": [
    "accuracy"
   ]
  }
 ],
 "metadata": {
  "kernelspec": {
   "display_name": "Python 3 (ipykernel)",
   "language": "python",
   "name": "python3"
  },
  "language_info": {
   "codemirror_mode": {
    "name": "ipython",
    "version": 3
   },
   "file_extension": ".py",
   "mimetype": "text/x-python",
   "name": "python",
   "nbconvert_exporter": "python",
   "pygments_lexer": "ipython3",
   "version": "3.10.6"
  }
 },
 "nbformat": 4,
 "nbformat_minor": 5
}
